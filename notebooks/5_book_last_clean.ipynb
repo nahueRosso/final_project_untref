{
 "cells": [
  {
   "attachments": {},
   "cell_type": "markdown",
   "metadata": {},
   "source": [
    "Importé librerias"
   ]
  },
  {
   "cell_type": "code",
   "execution_count": 1,
   "metadata": {},
   "outputs": [],
   "source": [
    "import json\n",
    "import pandas as pd\n",
    "import sys\n",
    "sys.path.append('..') "
   ]
  },
  {
   "attachments": {},
   "cell_type": "markdown",
   "metadata": {},
   "source": [
    "La funcion get_df_from_json() recibe como parametros el año y la raiz . tiene como objetivos:\n",
    "1. corroborar que las dos keys de los json sean iguales.\n",
    "2. si lo anterior es correcto crear un dataframe da pandas con ambos values y con el index del dataframe = key."
   ]
  },
  {
   "cell_type": "code",
   "execution_count": 2,
   "metadata": {},
   "outputs": [],
   "source": [
    "def get_df_from_json(year,pre_path='.'):\n",
    "    with open(f'{pre_path}/json/arrl-{year}-audio.json', 'r') as f1:\n",
    "        data1 = json.load(f1)\n",
    "        data1 = json.loads(data1)\n",
    "\n",
    "    with open(f'{pre_path}/json/arrl-{year}-texto.json', 'r') as f2:\n",
    "        data2 = json.load(f2)\n",
    "        data2 = json.loads(data2)\n",
    "\n",
    "    combined_data = {}\n",
    "\n",
    "    data1.items()\n",
    "\n",
    "    for key, value in data1.items():\n",
    "        key = key[:-7]\n",
    "        if f'{key}.txt' in data2:\n",
    "            combined_data[key] = [value, data2[f'{key}.txt']]\n",
    "\n",
    "\n",
    "    df = pd.DataFrame.from_dict(combined_data, orient='index', columns=['binary', 'translation'])\n",
    "    df.to_csv(f'{pre_path}/csv/arrl-{year}.csv')\n",
    "    return df"
   ]
  },
  {
   "attachments": {},
   "cell_type": "markdown",
   "metadata": {},
   "source": [
    "Hice un for para convertir todos los archivos."
   ]
  },
  {
   "cell_type": "code",
   "execution_count": 4,
   "metadata": {},
   "outputs": [],
   "source": [
    "for x in range(2013,2023):\n",
    "    get_df_from_json(x,'..')"
   ]
  },
  {
   "attachments": {},
   "cell_type": "markdown",
   "metadata": {},
   "source": [
    "Combine todo los archivos csv."
   ]
  },
  {
   "cell_type": "code",
   "execution_count": 3,
   "metadata": {},
   "outputs": [],
   "source": [
    "archivos_csv = []\n",
    "\n",
    "for x in range(2013,2023):\n",
    "    archivos_csv.append(f'../csv/arrl-{x}.csv')\n",
    "dataframes = []\n",
    "for archivo in archivos_csv:\n",
    "    df = pd.read_csv(archivo)\n",
    "    dataframes.append(df)\n",
    "\n",
    "\n",
    "df_combinado = pd.concat(dataframes, ignore_index=True)\n",
    "\n",
    "df_combinado = df_combinado.rename(columns={'Unnamed: 0': 'name'})\n",
    "\n",
    "df_combinado.to_csv('../csv/combinado.csv', index=False)\n"
   ]
  },
  {
   "attachments": {},
   "cell_type": "markdown",
   "metadata": {},
   "source": [
    "Hice un condiccional para mostrar si hay archivos duplicados  y cuantos hay."
   ]
  },
  {
   "cell_type": "code",
   "execution_count": 4,
   "metadata": {},
   "outputs": [
    {
     "name": "stdout",
     "output_type": "stream",
     "text": [
      "Hay 34 elementos duplicados en el DataFrame.\n"
     ]
    }
   ],
   "source": [
    "if df_combinado['translation'].any():\n",
    "    \n",
    "    print(f\"Hay {df_combinado['translation'].duplicated().sum()} elementos duplicados en el DataFrame.\")\n",
    "else:\n",
    "    print(\"No hay elementos duplicados en el DataFrame.\")\n",
    "    \n"
   ]
  },
  {
   "attachments": {},
   "cell_type": "markdown",
   "metadata": {},
   "source": [
    "Si hay archivo duplicados en las dos columnas del dataframe elimiarlas."
   ]
  },
  {
   "cell_type": "code",
   "execution_count": 7,
   "metadata": {},
   "outputs": [
    {
     "name": "stdout",
     "output_type": "stream",
     "text": [
      "869\n",
      "838\n"
     ]
    }
   ],
   "source": [
    "df_sin_duplicados = df_combinado.drop_duplicates(subset=['binary', 'translation'])\n",
    "\n",
    "# print(df_sin_duplicados)\n",
    "\n",
    "print(len(df_combinado))\n",
    "print(len(df_sin_duplicados))\n",
    "\n",
    "df_sin_duplicados.to_csv('../csv/convinados_sin_duplicados.csv')"
   ]
  },
  {
   "cell_type": "code",
   "execution_count": 65,
   "metadata": {},
   "outputs": [
    {
     "data": {
      "text/plain": [
       "str"
      ]
     },
     "execution_count": 65,
     "metadata": {},
     "output_type": "execute_result"
    }
   ],
   "source": [
    "(df_sin_duplicados['binary'][0])"
   ]
  }
 ],
 "metadata": {
  "kernelspec": {
   "display_name": "AERO",
   "language": "python",
   "name": "python3"
  },
  "language_info": {
   "codemirror_mode": {
    "name": "ipython",
    "version": 3
   },
   "file_extension": ".py",
   "mimetype": "text/x-python",
   "name": "python",
   "nbconvert_exporter": "python",
   "pygments_lexer": "ipython3",
   "version": "3.6.13"
  },
  "orig_nbformat": 4
 },
 "nbformat": 4,
 "nbformat_minor": 2
}
